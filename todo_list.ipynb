{
  "nbformat": 4,
  "nbformat_minor": 0,
  "metadata": {
    "colab": {
      "provenance": [],
      "authorship_tag": "ABX9TyPwFd+ONxfGN1Cew0DkrF2G",
      "include_colab_link": true
    },
    "kernelspec": {
      "name": "python3",
      "display_name": "Python 3"
    },
    "language_info": {
      "name": "python"
    }
  },
  "cells": [
    {
      "cell_type": "markdown",
      "metadata": {
        "id": "view-in-github",
        "colab_type": "text"
      },
      "source": [
        "<a href=\"https://colab.research.google.com/github/tara-hassanzadeh/todo_list/blob/main/todo_list.ipynb\" target=\"_parent\"><img src=\"https://colab.research.google.com/assets/colab-badge.svg\" alt=\"Open In Colab\"/></a>"
      ]
    },
    {
      "cell_type": "code",
      "execution_count": 1,
      "metadata": {
        "colab": {
          "base_uri": "https://localhost:8080/"
        },
        "id": "AKfcLyy3nfp0",
        "outputId": "49fde62e-ebff-4ee7-f4f2-c03efcdbb366"
      },
      "outputs": [
        {
          "output_type": "stream",
          "name": "stdout",
          "text": [
            "\n",
            "📋 Your To-Do List:\n",
            "1. ⬜ Study math\n",
            "2. ⬜ Cleaning my room \n",
            "3. ⬜ Study python \n",
            "4. ⬜ Reading books\n",
            "\n",
            "What do you want to do?\n",
            "1. Add Task\n",
            "2. Delete Task\n",
            "3. Mark Task as Done\n",
            "4. Mark Task as Not Done\n",
            "\n",
            "\n",
            "📋 Your To-Do List:\n",
            "1. ⬜ Study math\n",
            "2. ⬜ Cleaning my room \n",
            "3. ⬜ Study python \n",
            "4. ⬜ Reading books\n",
            "Enter the task number to mark as done: 2\n",
            "☑ Marked as done.\n",
            "\n",
            "📋 Your To-Do List:\n",
            "1. ⬜ Study math\n",
            "2. ✅ Cleaning my room \n",
            "3. ⬜ Study python \n",
            "4. ⬜ Reading books\n"
          ]
        }
      ],
      "source": [
        "tasks = []\n",
        "num_tasks = int(input(\"📝 How many tasks do you want to enter? \"))\n",
        "for i in range(num_tasks):\n",
        "    task = input(f\"Enter task {i+1}: \")\n",
        "    tasks.append({\"task\": task, \"done\": False})\n",
        "def show_tasks():\n",
        "    print(\"\\n📋 Your To-Do List:\")\n",
        "    if not tasks:\n",
        "        print(\"🚫 No tasks yet.\")\n",
        "    for i, item in enumerate(tasks, 1):\n",
        "        status = \"✅\" if item[\"done\"] else \"⬜\"\n",
        "        print(f\"{i}. {status} {item['task']}\")\n",
        "show_tasks()\n",
        "print(\"\"\"\n",
        "What do you want to do?\n",
        "1. Add Task\n",
        "2. Delete Task\n",
        "3. Mark Task as Done\n",
        "4. Mark Task as Not Done\n",
        "\"\"\")\n",
        "\n",
        "choice = int(input(\"Enter your choice (1-4): \"))\n",
        "\n",
        "if choice == 1:\n",
        "    new_task = input(\"Enter new task: \")\n",
        "    tasks.append({\"task\": new_task, \"done\": False})\n",
        "    print(\"✅ Task added.\")\n",
        "\n",
        "elif choice == 2:\n",
        "    show_tasks()\n",
        "    idx = int(input(\"Enter the task number to delete: \"))\n",
        "    if 0 < idx <= len(tasks):\n",
        "        removed = tasks.pop(idx - 1)\n",
        "        print(f\"🗑 Deleted: {removed['task']}\")\n",
        "    else:\n",
        "        print(\"❌ Invalid task number.\")\n",
        "\n",
        "elif choice == 3:\n",
        "    show_tasks()\n",
        "    idx = int(input(\"Enter the task number to mark as done: \"))\n",
        "    if 0 < idx <= len(tasks):\n",
        "        tasks[idx - 1][\"done\"] = True\n",
        "        print(\"☑ Marked as done.\")\n",
        "    else:\n",
        "        print(\"❌ Invalid task number.\")\n",
        "\n",
        "elif choice == 4:\n",
        "    show_tasks()\n",
        "    idx = int(input(\"Enter the task number to mark as NOT done: \"))\n",
        "    if 0 < idx <= len(tasks):\n",
        "        tasks[idx - 1][\"done\"] = False\n",
        "        print(\"⬜ Marked as not done.\")\n",
        "    else:\n",
        "        print(\"❌ Invalid task number.\")\n",
        "else:\n",
        "    print(\"⚠ Invalid choice.\")\n",
        "\n",
        "show_tasks()"
      ]
    }
  ]
}